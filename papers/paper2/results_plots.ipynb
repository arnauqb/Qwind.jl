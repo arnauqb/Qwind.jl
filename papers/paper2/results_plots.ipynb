{
 "cells": [
  {
   "cell_type": "code",
   "execution_count": 7,
   "id": "dedicated-appeal",
   "metadata": {},
   "outputs": [
    {
     "data": {
      "text/plain": [
       "3.4869240348692405"
      ]
     },
     "execution_count": 7,
     "metadata": {},
     "output_type": "execute_result"
    }
   ],
   "source": [
    "using Qwind, PyPlot, Glob, YAML\n",
    "plt.style.use(\"science\")\n",
    "mnras_width = 252/72.27"
   ]
  },
  {
   "cell_type": "code",
   "execution_count": 13,
   "id": "initial-sharing",
   "metadata": {},
   "outputs": [],
   "source": [
    "models = sort(glob(\"./results/rin_scan/model*\"));\n",
    "rins = []\n",
    "properties = []\n",
    "for model in models\n",
    "    push!(rins, YAML.load_file(model * \"/config.yaml\")[\"initial_conditions\"][\"r_in\"])\n",
    "    last_iter = sort(glob(model * \"/iteration*\"))[end]\n",
    "    push!(properties, YAML.load_file(last_iter * \"/wind_properties.yaml\"))\n",
    "end"
   ]
  },
  {
   "cell_type": "code",
   "execution_count": 15,
   "id": "diverse-study",
   "metadata": {},
   "outputs": [
    {
     "data": {
      "text/plain": [
       "Dict{Any, Any} with 7 entries:\n",
       "  \"eddington_luminosity\"  => 1.25707e46\n",
       "  \"bolometric_luminosity\" => 6.28533e45\n",
       "  \"mass_accretion_rate\"   => 1.22281e26\n",
       "  \"kinetic_luminosity\"    => 8.92965e44\n",
       "  \"mass_loss_fraction\"    => 0.37628\n",
       "  \"mass_loss\"             => 4.60119e25\n",
       "  \"max_velocity\"          => 0.353053"
      ]
     },
     "execution_count": 15,
     "metadata": {},
     "output_type": "execute_result"
    }
   ],
   "source": [
    "properties[1]"
   ]
  },
  {
   "cell_type": "code",
   "execution_count": 39,
   "id": "potential-boost",
   "metadata": {},
   "outputs": [
    {
     "data": {
      "image/png": "[encoded data removed]",
      "text/plain": [
       "Figure(PyObject <Figure size 348.692x278.954 with 1 Axes>)"
      ]
     },
     "metadata": {},
     "output_type": "display_data"
    },
    {
     "data": {
      "text/plain": [
       "PyObject Text(21.198090304803166, 0.5, '$\\\\dot M_\\\\mathrm{wind}\\\\, / \\\\,\\\\dot M$')"
      ]
     },
     "execution_count": 39,
     "metadata": {},
     "output_type": "execute_result"
    }
   ],
   "source": [
    "fig, ax = plt.subplots(figsize=(mnras_width, 0.8mnras_width))\n",
    "mdots = [property[\"mass_loss_fraction\"] for property in properties]\n",
    "ax.plot(rins, mdots, \"o-\", markersize=3)\n",
    "ax.set_xscale(\"log\")\n",
    "ax.set_yscale(\"log\")\n",
    "ax.set_xlabel(L\"$R_\\mathrm{in}$ [ $R_g$ ]\")\n",
    "ax.set_ylabel(L\"$\\dot M_\\mathrm{wind}\\, / \\,\\dot M$\")"
   ]
  },
  {
   "cell_type": "code",
   "execution_count": 40,
   "id": "empty-cover",
   "metadata": {},
   "outputs": [
    {
     "data": {
      "image/png": "[encoded data removed]",
      "text/plain": [
       "Figure(PyObject <Figure size 348.692x278.954 with 1 Axes>)"
      ]
     },
     "metadata": {},
     "output_type": "display_data"
    },
    {
     "data": {
      "text/plain": [
       "PyObject Text(20.297595834738658, 0.5, '$L_\\\\mathrm{kin/} \\\\; / \\\\; L_\\\\mathrm{Edd.}$')"
      ]
     },
     "execution_count": 40,
     "metadata": {},
     "output_type": "execute_result"
    },
    {
     "name": "stderr",
     "output_type": "stream",
     "text": [
      "┌ Warning: /home/arnau/code/Qwind.jl/src/radiative_transfer/density_interpolators is not an existing directory, Revise is not watching\n",
      "└ @ Revise /home/arnau/.julia/packages/Revise/mvD4N/src/packagedef.jl:565\n"
     ]
    }
   ],
   "source": [
    "fig, ax = plt.subplots(figsize=(mnras_width, 0.8mnras_width))\n",
    "mdots = [property[\"kinetic_luminosity\"] / property[\"bolometric_luminosity\"] for property in properties]\n",
    "ax.plot(rins, mdots, \"o-\", markersize=3)\n",
    "#ax.set_xscale(\"log\")\n",
    "ax.set_yscale(\"log\")\n",
    "ax.set_xlabel(L\"$R_\\mathrm{in}$ [ $R_g$ ]\")\n",
    "ax.set_ylabel(L\"$L_\\mathrm{kin/} \\; / \\; L_\\mathrm{Edd.}$\")"
   ]
  },
  {
   "cell_type": "code",
   "execution_count": null,
   "id": "phantom-footwear",
   "metadata": {},
   "outputs": [],
   "source": []
  },
  {
   "cell_type": "code",
   "execution_count": null,
   "id": "motivated-diversity",
   "metadata": {},
   "outputs": [],
   "source": []
  },
  {
   "cell_type": "code",
   "execution_count": null,
   "id": "fluid-chain",
   "metadata": {},
   "outputs": [],
   "source": []
  },
  {
   "cell_type": "code",
   "execution_count": null,
   "id": "helpful-trout",
   "metadata": {},
   "outputs": [],
   "source": []
  },
  {
   "cell_type": "code",
   "execution_count": null,
   "id": "primary-gibraltar",
   "metadata": {},
   "outputs": [],
   "source": []
  }
 ],
 "metadata": {
  "kernelspec": {
   "display_name": "Julia 1.6.0-rc1",
   "language": "julia",
   "name": "julia-1.6"
  },
  "language_info": {
   "file_extension": ".jl",
   "mimetype": "application/julia",
   "name": "julia",
   "version": "1.6.0"
  }
 },
 "nbformat": 4,
 "nbformat_minor": 5
}
